{
  "nbformat": 4,
  "nbformat_minor": 0,
  "metadata": {
    "colab": {
      "provenance": []
    },
    "kernelspec": {
      "name": "python3",
      "display_name": "Python 3"
    },
    "language_info": {
      "name": "python"
    }
  },
  "cells": [
    {
      "cell_type": "code",
      "execution_count": null,
      "metadata": {
        "id": "jXYk_ipcx4-3",
        "colab": {
          "base_uri": "https://localhost:8080/"
        },
        "outputId": "c089a722-6ea8-4c63-ef11-3ddce0225f18"
      },
      "outputs": [
        {
          "output_type": "execute_result",
          "data": {
            "text/plain": [
              "['/content/Corpus/Adobe.txt',\n",
              " '/content/Corpus/Amazon.txt',\n",
              " '/content/Corpus/apple.txt',\n",
              " '/content/Corpus/Binance.txt',\n",
              " '/content/Corpus/bing.txt',\n",
              " '/content/Corpus/blackberry.txt',\n",
              " '/content/Corpus/canva.txt',\n",
              " '/content/Corpus/Dell.txt',\n",
              " '/content/Corpus/Discord.txt',\n",
              " '/content/Corpus/flipkart.txt',\n",
              " '/content/Corpus/google.txt',\n",
              " '/content/Corpus/HP.txt',\n",
              " '/content/Corpus/huawei.txt',\n",
              " '/content/Corpus/instagram.txt',\n",
              " '/content/Corpus/Lenovo.txt',\n",
              " '/content/Corpus/levis.txt',\n",
              " '/content/Corpus/messenger.txt',\n",
              " '/content/Corpus/microsoft.txt',\n",
              " '/content/Corpus/motorola.txt',\n",
              " '/content/Corpus/nike.txt',\n",
              " '/content/Corpus/nokia.txt',\n",
              " '/content/Corpus/Ola.txt',\n",
              " '/content/Corpus/operating.txt',\n",
              " '/content/Corpus/paypal.txt',\n",
              " '/content/Corpus/puma.txt',\n",
              " '/content/Corpus/reddit.txt',\n",
              " '/content/Corpus/reliance.txt',\n",
              " '/content/Corpus/samsung.txt',\n",
              " '/content/Corpus/shakespeare.txt',\n",
              " '/content/Corpus/skype.txt',\n",
              " '/content/Corpus/sony.txt',\n",
              " '/content/Corpus/spotify.txt',\n",
              " '/content/Corpus/steam.txt',\n",
              " '/content/Corpus/swiggy.txt',\n",
              " '/content/Corpus/telegram.txt',\n",
              " '/content/Corpus/Uber.txt',\n",
              " '/content/Corpus/volkswagen.txt',\n",
              " '/content/Corpus/whatsapp.txt',\n",
              " '/content/Corpus/yahoo.txt',\n",
              " '/content/Corpus/youtube.txt',\n",
              " '/content/Corpus/zomato.txt']"
            ]
          },
          "metadata": {},
          "execution_count": 1
        }
      ],
      "source": [
        "import gdown\n",
        "\n",
        "url = 'https://drive.google.com/drive/folders/1D3sM984cM_aKdgr6HfxM7UvT_n526A3e?usp=share_link'\n",
        "opath = '/content'\n",
        "gdown.download_folder(url, quiet=True, use_cookies=False)"
      ]
    },
    {
      "cell_type": "code",
      "source": [
        "import glob\n",
        "import string\n",
        "import nltk\n",
        "import re\n",
        "import numpy as numpy\n",
        "from nltk.corpus import stopwords\n",
        "from nltk.stem import PorterStemmer\n",
        "from nltk.stem import WordNetLemmatizer\n",
        "from collections import OrderedDict"
      ],
      "metadata": {
        "id": "w-DraMVjzafQ"
      },
      "execution_count": 3,
      "outputs": []
    },
    {
      "cell_type": "code",
      "source": [],
      "metadata": {
        "id": "MMb9-C_V_QFn"
      },
      "execution_count": null,
      "outputs": []
    }
  ]
}